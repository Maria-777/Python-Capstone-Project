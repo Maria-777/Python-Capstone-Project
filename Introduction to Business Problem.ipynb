{
    "cells": [
        {
            "cell_type": "markdown",
            "metadata": {
                "collapsed": true
            },
            "source": "## A description of the problem and a discussion of the background. "
        },
        {
            "cell_type": "markdown",
            "metadata": {},
            "source": "The problem we have in front of us is to decrease a number of car accidents happening in Seattle. \nWe need to analyse the dataset to reveal the conditions creating the most collisions and resulting in most injuries.\n\nThe solution could be through building the model to predict the severity of car accidents depending basically on the conditions on the roads in Seattle, USA. \n\nWe would use the data provided by SDOT Traffic Management Division. The dataset is in .csv format. \n\n*The attributes that have the most importance for us in order to predict the severity of the car accidents are*:\n\n1. weather\n2. road conditions\n3. light conditions\n4. inattention of the driver\n5. driver being under influence\n\n*The severity of the accident is shown on the dataset by the following attributes*:\n\n1. severity of collision\n2. number of vehicles and people involved in the accident\n3. seriousness of injures and/or fatalities"
        },
        {
            "cell_type": "markdown",
            "metadata": {},
            "source": "**_Target audience_**\n\nAuthorities caring about citizens' well being and good statistics for the city should be the main audience of the project. \nThey need to understand what the problem is, what are the most critical moments of it, and how to present this to the people.\n\nPeople who are driving home from work or travellers passing by roads in Seattle should become target audience for the actions taken by authorities."
        }
    ],
    "metadata": {
        "kernelspec": {
            "display_name": "Python 3.6",
            "language": "python",
            "name": "python3"
        },
        "language_info": {
            "codemirror_mode": {
                "name": "ipython",
                "version": 3
            },
            "file_extension": ".py",
            "mimetype": "text/x-python",
            "name": "python",
            "nbconvert_exporter": "python",
            "pygments_lexer": "ipython3",
            "version": "3.6.9"
        }
    },
    "nbformat": 4,
    "nbformat_minor": 1
}